{
 "cells": [
  {
   "cell_type": "code",
   "execution_count": 3,
   "id": "6a64e6cc-74a4-442f-91b9-4c04a4d5025c",
   "metadata": {},
   "outputs": [
    {
     "name": "stdout",
     "output_type": "stream",
     "text": [
      "Logistic Regression Accuracy: 0.8597285067873304\n",
      "Naive Bayes Accuracy: 0.5368325791855204\n"
     ]
    },
    {
     "name": "stderr",
     "output_type": "stream",
     "text": [
      "/Library/Frameworks/Python.framework/Versions/3.8/lib/python3.8/site-packages/sklearn/linear_model/_logistic.py:458: ConvergenceWarning: lbfgs failed to converge (status=1):\n",
      "STOP: TOTAL NO. of ITERATIONS REACHED LIMIT.\n",
      "\n",
      "Increase the number of iterations (max_iter) or scale the data as shown in:\n",
      "    https://scikit-learn.org/stable/modules/preprocessing.html\n",
      "Please also refer to the documentation for alternative solver options:\n",
      "    https://scikit-learn.org/stable/modules/linear_model.html#logistic-regression\n",
      "  n_iter_i = _check_optimize_result(\n"
     ]
    }
   ],
   "source": [
    "import pandas as pd\n",
    "import numpy as np\n",
    "from sklearn.model_selection import train_test_split\n",
    "from sklearn.preprocessing import MinMaxScaler\n",
    "from sklearn.linear_model import LogisticRegression\n",
    "from sklearn.naive_bayes import GaussianNB\n",
    "from sklearn.metrics import accuracy_score\n",
    "\n",
    "\n",
    "\n",
    "# m. Data cleaning\n",
    "df.replace('?', np.nan, inplace=True)\n",
    "df = df.dropna()  # Remove rows with missing values\n",
    "# Convert only numerical columns to numeric\n",
    "numeric_cols = ['age', 'fnlwgt', 'education-num', 'capital-gain', 'capital-loss', 'hours-per-week']\n",
    "for col in numeric_cols:\n",
    "    df[col] = pd.to_numeric(df[col], errors='coerce')\n",
    "df = df.dropna()  # Remove rows with NaN in numerical columns\n",
    "df = df[(df[numeric_cols] >= 0).all(axis=1)]  # Remove negative values in numerical columns\n",
    "\n",
    "\n",
    "\n",
    "# o. Data transformation\n",
    "# Convert categorical variables to numeric using one-hot encoding\n",
    "categorical_cols = ['workclass', 'education', 'marital-status', 'occupation', \n",
    "                    'relationship', 'race', 'sex', 'native-country']\n",
    "df = pd.get_dummies(df, columns=categorical_cols)\n",
    "# Normalize numerical features\n",
    "X = df.drop('income', axis=1)\n",
    "y = df['income'].map({'<=50K': 0, '>50K': 1})  # Convert income to binary\n",
    "scaler = MinMaxScaler()\n",
    "X_scaled = scaler.fit_transform(X)\n",
    "\n",
    "# Split data\n",
    "X_train, X_test, y_train, y_test = train_test_split(X_scaled, y, test_size=0.2, random_state=42)\n",
    "\n",
    "# p. Build models and compare accuracy\n",
    "# Logistic Regression\n",
    "lr = LogisticRegression(max_iter=200)\n",
    "lr.fit(X_train, y_train)\n",
    "lr_pred = lr.predict(X_test)\n",
    "lr_acc = accuracy_score(y_test, lr_pred)\n",
    "\n",
    "# Naive Bayes\n",
    "nb = GaussianNB()\n",
    "nb.fit(X_train, y_train)\n",
    "nb_pred = nb.predict(X_test)\n",
    "nb_acc = accuracy_score(y_test, nb_pred)\n",
    "\n",
    "# Print accuracy\n",
    "print(\"Logistic Regression Accuracy:\", lr_acc)\n",
    "print(\"Naive Bayes Accuracy:\", nb_acc)"
   ]
  },
  {
   "cell_type": "code",
   "execution_count": null,
   "id": "4ed30634-aa0e-4186-8054-419c555f1f2a",
   "metadata": {},
   "outputs": [],
   "source": []
  }
 ],
 "metadata": {
  "kernelspec": {
   "display_name": "Python 3 (ipykernel)",
   "language": "python",
   "name": "python3"
  },
  "language_info": {
   "codemirror_mode": {
    "name": "ipython",
    "version": 3
   },
   "file_extension": ".py",
   "mimetype": "text/x-python",
   "name": "python",
   "nbconvert_exporter": "python",
   "pygments_lexer": "ipython3",
   "version": "3.8.2rc2"
  }
 },
 "nbformat": 4,
 "nbformat_minor": 5
}
