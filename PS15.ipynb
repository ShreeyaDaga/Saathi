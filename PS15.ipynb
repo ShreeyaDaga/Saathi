{
 "cells": [
  {
   "cell_type": "code",
   "execution_count": 1,
   "id": "b17a022a-bd14-4bba-9fe5-a7c133832471",
   "metadata": {},
   "outputs": [],
   "source": [
    "import pandas as pd\n",
    "import numpy as np\n",
    "import matplotlib.pyplot as plt\n",
    "import seaborn as sns\n",
    "\n",
    "from sklearn.preprocessing import StandardScaler, LabelEncoder\n",
    "from sklearn.model_selection import train_test_split\n",
    "from sklearn.linear_model import LogisticRegression\n",
    "from sklearn.metrics import accuracy_score, classification_report, confusion_matrix\n",
    "from sklearn.naive_bayes import GaussianNB"
   ]
  },
  {
   "cell_type": "code",
   "execution_count": 32,
   "id": "31639da6-822b-4b6c-a703-551d3ccdfedb",
   "metadata": {},
   "outputs": [],
   "source": [
    "df = pd.read_csv('BreastCancerWc.csv', header = None)"
   ]
  },
  {
   "cell_type": "code",
   "execution_count": 33,
   "id": "cffd83ea-d3ce-4ee5-9df3-15df30d92f1a",
   "metadata": {},
   "outputs": [],
   "source": [
    "df.columns = [\n",
    "    'SampleCodeNumber',\n",
    "    'ClumpThickness',\n",
    "    'UniformityCellSize',\n",
    "    'UniformityCellShape',\n",
    "    'MarginalAdhesion',\n",
    "    'SingleEpithelialCellSize',\n",
    "    'BareNuclei',\n",
    "    'BlandChromatin',\n",
    "    'NormalNucleoli',\n",
    "    'Mitoses',\n",
    "    'Class'\n",
    "]"
   ]
  },
  {
   "cell_type": "code",
   "execution_count": 34,
   "id": "5ee6239b-3a9f-4e70-badd-3d6ca03a77ed",
   "metadata": {},
   "outputs": [
    {
     "data": {
      "text/html": [
       "<div>\n",
       "<style scoped>\n",
       "    .dataframe tbody tr th:only-of-type {\n",
       "        vertical-align: middle;\n",
       "    }\n",
       "\n",
       "    .dataframe tbody tr th {\n",
       "        vertical-align: top;\n",
       "    }\n",
       "\n",
       "    .dataframe thead th {\n",
       "        text-align: right;\n",
       "    }\n",
       "</style>\n",
       "<table border=\"1\" class=\"dataframe\">\n",
       "  <thead>\n",
       "    <tr style=\"text-align: right;\">\n",
       "      <th></th>\n",
       "      <th>SampleCodeNumber</th>\n",
       "      <th>ClumpThickness</th>\n",
       "      <th>UniformityCellSize</th>\n",
       "      <th>UniformityCellShape</th>\n",
       "      <th>MarginalAdhesion</th>\n",
       "      <th>SingleEpithelialCellSize</th>\n",
       "      <th>BareNuclei</th>\n",
       "      <th>BlandChromatin</th>\n",
       "      <th>NormalNucleoli</th>\n",
       "      <th>Mitoses</th>\n",
       "      <th>Class</th>\n",
       "    </tr>\n",
       "  </thead>\n",
       "  <tbody>\n",
       "    <tr>\n",
       "      <th>0</th>\n",
       "      <td>1000025</td>\n",
       "      <td>5</td>\n",
       "      <td>1</td>\n",
       "      <td>1</td>\n",
       "      <td>1</td>\n",
       "      <td>2</td>\n",
       "      <td>1</td>\n",
       "      <td>3</td>\n",
       "      <td>1</td>\n",
       "      <td>1</td>\n",
       "      <td>2</td>\n",
       "    </tr>\n",
       "    <tr>\n",
       "      <th>1</th>\n",
       "      <td>1002945</td>\n",
       "      <td>5</td>\n",
       "      <td>4</td>\n",
       "      <td>4</td>\n",
       "      <td>5</td>\n",
       "      <td>7</td>\n",
       "      <td>10</td>\n",
       "      <td>3</td>\n",
       "      <td>2</td>\n",
       "      <td>1</td>\n",
       "      <td>2</td>\n",
       "    </tr>\n",
       "    <tr>\n",
       "      <th>2</th>\n",
       "      <td>1015425</td>\n",
       "      <td>3</td>\n",
       "      <td>1</td>\n",
       "      <td>1</td>\n",
       "      <td>1</td>\n",
       "      <td>2</td>\n",
       "      <td>2</td>\n",
       "      <td>3</td>\n",
       "      <td>1</td>\n",
       "      <td>1</td>\n",
       "      <td>2</td>\n",
       "    </tr>\n",
       "    <tr>\n",
       "      <th>3</th>\n",
       "      <td>1016277</td>\n",
       "      <td>6</td>\n",
       "      <td>8</td>\n",
       "      <td>8</td>\n",
       "      <td>1</td>\n",
       "      <td>3</td>\n",
       "      <td>4</td>\n",
       "      <td>3</td>\n",
       "      <td>7</td>\n",
       "      <td>1</td>\n",
       "      <td>2</td>\n",
       "    </tr>\n",
       "    <tr>\n",
       "      <th>4</th>\n",
       "      <td>1017023</td>\n",
       "      <td>4</td>\n",
       "      <td>1</td>\n",
       "      <td>1</td>\n",
       "      <td>3</td>\n",
       "      <td>2</td>\n",
       "      <td>1</td>\n",
       "      <td>3</td>\n",
       "      <td>1</td>\n",
       "      <td>1</td>\n",
       "      <td>2</td>\n",
       "    </tr>\n",
       "  </tbody>\n",
       "</table>\n",
       "</div>"
      ],
      "text/plain": [
       "   SampleCodeNumber  ClumpThickness  UniformityCellSize  UniformityCellShape  \\\n",
       "0           1000025               5                   1                    1   \n",
       "1           1002945               5                   4                    4   \n",
       "2           1015425               3                   1                    1   \n",
       "3           1016277               6                   8                    8   \n",
       "4           1017023               4                   1                    1   \n",
       "\n",
       "   MarginalAdhesion  SingleEpithelialCellSize BareNuclei  BlandChromatin  \\\n",
       "0                 1                         2          1               3   \n",
       "1                 5                         7         10               3   \n",
       "2                 1                         2          2               3   \n",
       "3                 1                         3          4               3   \n",
       "4                 3                         2          1               3   \n",
       "\n",
       "   NormalNucleoli  Mitoses  Class  \n",
       "0               1        1      2  \n",
       "1               2        1      2  \n",
       "2               1        1      2  \n",
       "3               7        1      2  \n",
       "4               1        1      2  "
      ]
     },
     "execution_count": 34,
     "metadata": {},
     "output_type": "execute_result"
    }
   ],
   "source": [
    "df.head()"
   ]
  },
  {
   "cell_type": "code",
   "execution_count": 35,
   "id": "e5b4c9d2-1498-4419-a938-50c6fca11a9e",
   "metadata": {},
   "outputs": [
    {
     "data": {
      "text/plain": [
       "SampleCodeNumber             int64\n",
       "ClumpThickness               int64\n",
       "UniformityCellSize           int64\n",
       "UniformityCellShape          int64\n",
       "MarginalAdhesion             int64\n",
       "SingleEpithelialCellSize     int64\n",
       "BareNuclei                  object\n",
       "BlandChromatin               int64\n",
       "NormalNucleoli               int64\n",
       "Mitoses                      int64\n",
       "Class                        int64\n",
       "dtype: object"
      ]
     },
     "execution_count": 35,
     "metadata": {},
     "output_type": "execute_result"
    }
   ],
   "source": [
    "df.dtypes"
   ]
  },
  {
   "cell_type": "code",
   "execution_count": 36,
   "id": "227fb9f3-ebe0-450d-aa79-30a89d62c4a2",
   "metadata": {},
   "outputs": [
    {
     "data": {
      "text/plain": [
       "SampleCodeNumber            0\n",
       "ClumpThickness              0\n",
       "UniformityCellSize          0\n",
       "UniformityCellShape         0\n",
       "MarginalAdhesion            0\n",
       "SingleEpithelialCellSize    0\n",
       "BareNuclei                  0\n",
       "BlandChromatin              0\n",
       "NormalNucleoli              0\n",
       "Mitoses                     0\n",
       "Class                       0\n",
       "dtype: int64"
      ]
     },
     "execution_count": 36,
     "metadata": {},
     "output_type": "execute_result"
    }
   ],
   "source": [
    "df.isnull().sum()"
   ]
  },
  {
   "cell_type": "code",
   "execution_count": 37,
   "id": "accd84cd-3b07-4ff7-a12b-8287212b9042",
   "metadata": {},
   "outputs": [
    {
     "name": "stdout",
     "output_type": "stream",
     "text": [
      "Unique values in 'SampleCodeNumber':\n",
      "[ 1000025  1002945  1015425  1016277  1017023  1017122  1018099  1018561\n",
      "  1033078  1035283  1036172  1041801  1043999  1044572  1047630  1048672\n",
      "  1049815  1050670  1050718  1054590  1054593  1056784  1057013  1059552\n",
      "  1065726  1066373  1066979  1067444  1070935  1071760  1072179  1074610\n",
      "  1075123  1079304  1080185  1081791  1084584  1091262  1096800  1099510\n",
      "  1100524  1102573  1103608  1103722  1105257  1105524  1106095  1106829\n",
      "  1108370  1108449  1110102  1110503  1110524  1111249  1112209  1113038\n",
      "  1113483  1113906  1115282  1115293  1116116  1116132  1116192  1116998\n",
      "  1117152  1118039  1120559  1121732  1121919  1123061  1124651  1125035\n",
      "  1126417  1131294  1132347  1133041  1133136  1136142  1137156  1143978\n",
      "  1147044  1147699  1147748  1148278  1148873  1152331  1155546  1156272\n",
      "  1156948  1157734  1158247  1160476  1164066  1165297  1165790  1165926\n",
      "  1166630  1166654  1167439  1167471  1168359  1168736  1169049  1170419\n",
      "  1170420  1171710  1171795  1171845  1172152  1173216  1173235  1173347\n",
      "  1173509  1173514  1173681  1174057  1174131  1174428  1175937  1176406\n",
      "  1176881  1177027  1177399  1177512  1178580  1179818  1180194  1180523\n",
      "  1180831  1181356  1182404  1182410  1183240  1183246  1183516  1183911\n",
      "  1183983  1184184  1184241  1184840  1185609  1185610  1187457  1187805\n",
      "  1188472  1189266  1189286  1190394  1190485  1192325  1193091  1193210\n",
      "  1193683  1196295  1196915  1197080  1197270  1197440  1197510  1197979\n",
      "  1197993  1198128  1198641  1199219  1199731  1199983  1200772  1200847\n",
      "  1200892  1200952  1201834  1201936  1202125  1202812  1203096  1204242\n",
      "  1204898  1205138  1205579  1206089  1206695  1206841  1207986  1208301\n",
      "  1210963  1211202  1212232  1212251  1212422  1213375  1213383  1214092\n",
      "  1214556  1214966  1216694  1216947  1217051  1217264  1218105  1218741\n",
      "  1218860  1219406  1219525  1219859  1220330  1221863  1222047  1222936\n",
      "  1223282  1223426  1223793  1223967  1224329  1225799  1226012  1226612\n",
      "  1227210  1227244  1227481  1228152  1228311  1230175  1230688  1231387\n",
      "  1231706  1232225  1236043  1241232  1241559  1241679  1242364  1243256\n",
      "  1270479  1276091  1277018   128059  1285531  1287775   144888   145447\n",
      "   167528   169356   183913   191250   242970   255644   263538   274137\n",
      "   303213   314428   320675   324427   385103   390840   411453   428903\n",
      "   431495   432809   434518   452264   456282   476903   486283   486662\n",
      "   488173   492268   508234   527363   529329   535331   543558   555977\n",
      "   560680   561477   563649   601265   606140   606722   616240    61634\n",
      "   625201    63375   635844   636130   640744   646904   653777   659642\n",
      "   666090   666942   667204   673637   684955   688033   691628   693702\n",
      "   704097   704168   706426   709287   718641   721482   730881   733639\n",
      "   733823   740492   743348   752904   756136   760001   760239    76389\n",
      "   764974   770066   785208   785615   792744   797327   798429   806423\n",
      "   809912   810104   814265   814911   822829   826923   830690   831268\n",
      "   832226   832567   836433   837082   846832   850831   855524   857774\n",
      "   859164   859350   866325   873549   877291   877943   888169   888523\n",
      "   896404   897172    95719   160296   342245   428598   492561   493452\n",
      "   521441   636437   640712   654244   657753   685977   805448   846423\n",
      "  1002504  1022257  1026122  1071084  1080233  1114570  1116715  1131411\n",
      "  1151734  1156017  1158405  1168278  1176187  1196263  1196475  1206314\n",
      "  1211265  1213784  1223003  1223306  1223543  1229929  1231853  1234554\n",
      "  1236837  1237674  1238021  1238464  1238633  1238915  1238948  1239232\n",
      "  1239347  1239967  1240337  1253505  1255384  1257200  1257648  1257815\n",
      "  1257938  1258549  1258556  1266154  1272039  1277629  1293439  1294562\n",
      "  1295186   527337   558538   566509   608157   677910   734111   780555\n",
      "   827627  1049837  1058849  1193544  1201870  1202253  1227081  1230994\n",
      "  1238410  1246562  1257470  1259008  1266124  1267898  1268313  1268804\n",
      "  1280258  1293966  1296572  1298416  1299596  1181685  1211594  1238777\n",
      "  1257608  1269574  1277145  1287282  1296025  1296263  1296593  1299161\n",
      "  1301945  1302428  1318169   474162   787451  1002025  1070522  1073960\n",
      "  1076352  1084139  1119189  1133991  1142706  1155967  1170945  1181567\n",
      "  1204558  1217952  1224565  1238186  1253917  1265899  1268766  1277268\n",
      "  1286943  1295508  1297327  1297522  1298360  1299924  1299994  1304595\n",
      "  1306282  1313325  1320077  1320304  1330439   333093   369565   412300\n",
      "   672113   749653   769612   807657  8233704   837480   867392   869828\n",
      "  1043068  1056171  1061990  1113061  1135090  1145420  1158157  1171578\n",
      "  1174841  1184586  1186936  1197527  1222464  1240603  1241035  1287971\n",
      "  1289391  1306339  1313658  1313982  1321264  1321321  1321348  1321931\n",
      "  1321942  1328331  1328755  1331405  1331412  1333104  1334071  1343068\n",
      "  1343374  1344121   142932   183936   324382   378275   690557   695091\n",
      "   695219   824249   871549   878358  1107684  1115762  1217717  1239420\n",
      "  1254538  1261751  1268275  1272166  1294261  1295529  1298484  1311875\n",
      "  1315506  1320141  1325309  1333063  1333495  1334659  1336798  1344449\n",
      "  1350568  1352663   188336   352431   353098   557583   636375   736150\n",
      "   803531  1016634  1031608  1041043  1042252  1057067  1073836  1083817\n",
      "  1096352  1140597  1149548  1174009  1183596  1190386  1190546  1213273\n",
      "  1218982  1225382  1235807  1253955  1257366  1260659  1268952  1275807\n",
      "  1277792  1285722  1288608  1290203  1294413  1303489  1311033  1311108\n",
      "  1315807  1318671  1319609  1323477  1324572  1324681  1325159  1326892\n",
      "  1330361  1333877  1334015  1334667  1339781 13454352  1345452  1345593\n",
      "  1347749  1347943  1348851  1350319  1350423  1352848  1353092  1354840\n",
      "  1355260  1365075  1365328  1368267  1368273  1368882  1369821  1371026\n",
      "  1371920   466906   534555   536708   566346   603148   654546   714039\n",
      "   763235   776715   841769   888820   897471]\n",
      "----------------------------------------\n",
      "Unique values in 'ClumpThickness':\n",
      "[ 5  3  6  4  8  1  2  7 10  9]\n",
      "----------------------------------------\n",
      "Unique values in 'UniformityCellSize':\n",
      "[ 1  4  8 10  2  3  7  5  6  9]\n",
      "----------------------------------------\n",
      "Unique values in 'UniformityCellShape':\n",
      "[ 1  4  8 10  2  3  5  6  7  9]\n",
      "----------------------------------------\n",
      "Unique values in 'MarginalAdhesion':\n",
      "[ 1  5  3  8 10  4  6  2  9  7]\n",
      "----------------------------------------\n",
      "Unique values in 'SingleEpithelialCellSize':\n",
      "[ 2  7  3  1  6  4  5  8 10  9]\n",
      "----------------------------------------\n",
      "Unique values in 'BareNuclei':\n",
      "['1' '10' '2' '4' '3' '9' '7' '?' '5' '8' '6']\n",
      "----------------------------------------\n",
      "Unique values in 'BlandChromatin':\n",
      "[ 3  9  1  2  4  5  7  8  6 10]\n",
      "----------------------------------------\n",
      "Unique values in 'NormalNucleoli':\n",
      "[ 1  2  7  4  5  3 10  6  9  8]\n",
      "----------------------------------------\n",
      "Unique values in 'Mitoses':\n",
      "[ 1  5  4  2  3  7 10  8  6]\n",
      "----------------------------------------\n",
      "Unique values in 'Class':\n",
      "[2 4]\n",
      "----------------------------------------\n"
     ]
    }
   ],
   "source": [
    "for col in df.columns:\n",
    "    print(f\"Unique values in '{col}':\")\n",
    "    print(df[col].unique())\n",
    "    print(\"-\" * 40)"
   ]
  },
  {
   "cell_type": "code",
   "execution_count": 38,
   "id": "fcb2ce42-a5b9-42ff-8579-353f72a572ab",
   "metadata": {},
   "outputs": [
    {
     "name": "stdout",
     "output_type": "stream",
     "text": [
      "Column 'BareNuclei' contains '?' values.\n"
     ]
    }
   ],
   "source": [
    "for col in df.columns:\n",
    "    if df[col].astype(str).str.contains(r\"\\?\").any():\n",
    "        print(f\"Column '{col}' contains '?' values.\")"
   ]
  },
  {
   "cell_type": "code",
   "execution_count": 39,
   "id": "fe267dfb-f09f-496e-9644-2ba0c4808272",
   "metadata": {},
   "outputs": [],
   "source": [
    "df['BareNuclei'] = pd.to_numeric(df['BareNuclei'], errors='coerce')"
   ]
  },
  {
   "cell_type": "code",
   "execution_count": 40,
   "id": "1c197c44-a649-4ec4-890f-9bbc78252cbf",
   "metadata": {},
   "outputs": [
    {
     "data": {
      "text/plain": [
       "SampleCodeNumber             0\n",
       "ClumpThickness               0\n",
       "UniformityCellSize           0\n",
       "UniformityCellShape          0\n",
       "MarginalAdhesion             0\n",
       "SingleEpithelialCellSize     0\n",
       "BareNuclei                  16\n",
       "BlandChromatin               0\n",
       "NormalNucleoli               0\n",
       "Mitoses                      0\n",
       "Class                        0\n",
       "dtype: int64"
      ]
     },
     "execution_count": 40,
     "metadata": {},
     "output_type": "execute_result"
    }
   ],
   "source": [
    "df.isnull().sum()"
   ]
  },
  {
   "cell_type": "code",
   "execution_count": 41,
   "id": "4186177b-d8e9-477a-9e28-001deea1aa91",
   "metadata": {},
   "outputs": [],
   "source": [
    "df.dropna(inplace=True)"
   ]
  },
  {
   "cell_type": "code",
   "execution_count": 42,
   "id": "b4924eac-faeb-4fe9-a9a9-3d57988beaf8",
   "metadata": {},
   "outputs": [],
   "source": [
    "df = df[df.select_dtypes(include=[np.number]).ge(0).all(axis=1)]"
   ]
  },
  {
   "cell_type": "code",
   "execution_count": 43,
   "id": "24405b59-6f00-4842-9fde-49f27b6508ab",
   "metadata": {},
   "outputs": [],
   "source": [
    "df.drop(columns=['SampleCodeNumber'], inplace=True)"
   ]
  },
  {
   "cell_type": "code",
   "execution_count": 44,
   "id": "b2eb02a2-f21c-490d-92b2-0e82e48a9029",
   "metadata": {},
   "outputs": [],
   "source": [
    "def detect_outliers(df, columns=None):\n",
    "    # If no columns are specified, use all numeric columns except the last column (class column)\n",
    "    if columns is None:\n",
    "        columns = df.select_dtypes(include=['number']).columns\n",
    "    \n",
    "    # Calculate Q1, Q3, and IQR for each column\n",
    "    Q1 = df[columns].quantile(0.25)\n",
    "    Q3 = df[columns].quantile(0.75)\n",
    "    IQR = Q3 - Q1\n",
    "    \n",
    "    # Calculate the outlier thresholds\n",
    "    lower_bound = Q1 - 1.5 * IQR\n",
    "    upper_bound = Q3 + 1.5 * IQR\n",
    "    \n",
    "    # Create a DataFrame indicating whether each value is an outlier\n",
    "    outliers = (df[columns] < lower_bound) | (df[columns] > upper_bound)\n",
    "    \n",
    "    return outliers"
   ]
  },
  {
   "cell_type": "code",
   "execution_count": 45,
   "id": "4eff5d97-d746-47cf-b441-960acf35491d",
   "metadata": {},
   "outputs": [],
   "source": [
    "outliers = detect_outliers(df)"
   ]
  },
  {
   "cell_type": "code",
   "execution_count": 46,
   "id": "38361654-0dba-41a4-a52f-068eaea1c3be",
   "metadata": {},
   "outputs": [],
   "source": [
    "df = df[~outliers.any(axis=1)] "
   ]
  },
  {
   "cell_type": "code",
   "execution_count": 47,
   "id": "385fc837-eac8-4d73-b3fe-8693e0d52e8c",
   "metadata": {},
   "outputs": [
    {
     "name": "stdout",
     "output_type": "stream",
     "text": [
      "Class\n",
      "2    427\n",
      "4     64\n",
      "Name: count, dtype: int64\n"
     ]
    }
   ],
   "source": [
    "# Check the class distribution in the entire dataset\n",
    "print(df['Class'].value_counts())"
   ]
  },
  {
   "cell_type": "code",
   "execution_count": 48,
   "id": "cea3ed09-6509-4df0-8e50-85631479bd0b",
   "metadata": {},
   "outputs": [
    {
     "name": "stdout",
     "output_type": "stream",
     "text": [
      "Class\n",
      "0    427\n",
      "1     64\n",
      "Name: count, dtype: int64\n"
     ]
    }
   ],
   "source": [
    "# Map the values to 0 and 1\n",
    "df['Class'] = df['Class'].replace({2: 0, 4: 1})\n",
    "\n",
    "# Check the class distribution\n",
    "print(df['Class'].value_counts())"
   ]
  },
  {
   "cell_type": "code",
   "execution_count": 49,
   "id": "d102d89b-f045-4f9b-8353-9ebd688c7803",
   "metadata": {},
   "outputs": [],
   "source": [
    "X = df.drop(columns=['Class'])\n",
    "y = df['Class'] \n",
    "\n",
    "scaler = StandardScaler()\n",
    "X_scaled = scaler.fit_transform(X)"
   ]
  },
  {
   "cell_type": "code",
   "execution_count": 50,
   "id": "4a24be0c-3044-4446-9833-955ed13f2071",
   "metadata": {},
   "outputs": [],
   "source": [
    "X_train, X_test, y_train, y_test = train_test_split(X_scaled, y, test_size=0.2, random_state=42)"
   ]
  },
  {
   "cell_type": "code",
   "execution_count": 51,
   "id": "ca2976e1-25f3-47d9-b250-932dc51d52f6",
   "metadata": {},
   "outputs": [
    {
     "name": "stdout",
     "output_type": "stream",
     "text": [
      "Class\n",
      "0    335\n",
      "1     57\n",
      "Name: count, dtype: int64\n"
     ]
    }
   ],
   "source": [
    "print(y_train.value_counts())"
   ]
  },
  {
   "cell_type": "code",
   "execution_count": 52,
   "id": "196e49dd-071d-40d2-b12a-7f94e90e6879",
   "metadata": {},
   "outputs": [],
   "source": [
    "lr_model = LogisticRegression()\n",
    "lr_model.fit(X_train, y_train)\n",
    "y_pred_lr = lr_model.predict(X_test)"
   ]
  },
  {
   "cell_type": "code",
   "execution_count": 53,
   "id": "206fd7cc-44e2-494d-9e58-b5d9d0419d0c",
   "metadata": {},
   "outputs": [
    {
     "name": "stdout",
     "output_type": "stream",
     "text": [
      "Accuracy: 0.9696969696969697\n",
      "              precision    recall  f1-score   support\n",
      "\n",
      "           0       0.98      0.99      0.98        92\n",
      "           1       0.83      0.71      0.77         7\n",
      "\n",
      "    accuracy                           0.97        99\n",
      "   macro avg       0.91      0.85      0.88        99\n",
      "weighted avg       0.97      0.97      0.97        99\n",
      "\n"
     ]
    }
   ],
   "source": [
    "print(f\"Accuracy: {accuracy_score(y_test, y_pred_lr)}\")\n",
    "print(classification_report(y_test, y_pred_lr))"
   ]
  },
  {
   "cell_type": "code",
   "execution_count": 54,
   "id": "4c54f12b-a931-444b-891c-b61a6e019645",
   "metadata": {},
   "outputs": [],
   "source": [
    "nb_model = GaussianNB()\n",
    "nb_model.fit(X_train, y_train)\n",
    "y_pred_nb = nb_model.predict(X_test)"
   ]
  },
  {
   "cell_type": "code",
   "execution_count": 56,
   "id": "ba166d17-0e51-4944-8648-85e2b9f876b7",
   "metadata": {},
   "outputs": [
    {
     "name": "stdout",
     "output_type": "stream",
     "text": [
      "Naive Bayes Accuracy: 0.9494949494949495\n",
      "Naive Bayes Report:\n",
      "               precision    recall  f1-score   support\n",
      "\n",
      "           0       1.00      0.95      0.97        92\n",
      "           1       0.58      1.00      0.74         7\n",
      "\n",
      "    accuracy                           0.95        99\n",
      "   macro avg       0.79      0.97      0.85        99\n",
      "weighted avg       0.97      0.95      0.96        99\n",
      "\n"
     ]
    }
   ],
   "source": [
    "print(\"Naive Bayes Accuracy:\", accuracy_score(y_test, y_pred_nb))\n",
    "print(\"Naive Bayes Report:\\n\", classification_report(y_test, y_pred_nb))"
   ]
  },
  {
   "cell_type": "code",
   "execution_count": 57,
   "id": "736c0658-6a06-4d9e-8b44-fc0b4d72e4a4",
   "metadata": {},
   "outputs": [
    {
     "data": {
      "image/png": "[encoded data removed]",
      "text/plain": [
       "<Figure size 640x480 with 2 Axes>"
      ]
     },
     "metadata": {},
     "output_type": "display_data"
    }
   ],
   "source": [
    "sns.heatmap(confusion_matrix(y_test, y_pred_lr), annot=True, fmt='d')\n",
    "plt.title(\"Logistic Regression Confusion Matrix\")\n",
    "plt.show()"
   ]
  },
  {
   "cell_type": "code",
   "execution_count": 58,
   "id": "75091f55-1103-4e45-95aa-38a7799b99c5",
   "metadata": {},
   "outputs": [
    {
     "data": {
      "image/png": "[encoded data removed]",
      "text/plain": [
       "<Figure size 640x480 with 2 Axes>"
      ]
     },
     "metadata": {},
     "output_type": "display_data"
    }
   ],
   "source": [
    "sns.heatmap(confusion_matrix(y_test, y_pred_nb), annot=True, fmt='d')\n",
    "plt.title(\"Naive Bayes Confusion Matrix\")\n",
    "plt.show()"
   ]
  },
  {
   "cell_type": "code",
   "execution_count": null,
   "id": "d0309ce3-1fa3-4fe5-8cdc-0f4f64610a74",
   "metadata": {},
   "outputs": [],
   "source": []
  }
 ],
 "metadata": {
  "kernelspec": {
   "display_name": "Python 3 (ipykernel)",
   "language": "python",
   "name": "python3"
  },
  "language_info": {
   "codemirror_mode": {
    "name": "ipython",
    "version": 3
   },
   "file_extension": ".py",
   "mimetype": "text/x-python",
   "name": "python",
   "nbconvert_exporter": "python",
   "pygments_lexer": "ipython3",
   "version": "3.12.6"
  }
 },
 "nbformat": 4,
 "nbformat_minor": 5
}
