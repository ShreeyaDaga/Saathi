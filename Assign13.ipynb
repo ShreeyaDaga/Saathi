{
 "cells": [
  {
   "cell_type": "code",
   "execution_count": 4,
   "id": "37063188-d9f4-47ba-a4ed-10df1d9a7aa6",
   "metadata": {},
   "outputs": [
    {
     "name": "stdout",
     "output_type": "stream",
     "text": [
      "Logistic Regression Accuracy: 0.6206896551724138\n",
      "kNN Accuracy: 0.5862068965517241\n"
     ]
    }
   ],
   "source": [
    "import pandas as pd\n",
    "import numpy as np\n",
    "from sklearn.model_selection import train_test_split\n",
    "from sklearn.preprocessing import MinMaxScaler\n",
    "from sklearn.linear_model import LogisticRegression\n",
    "from sklearn.neighbors import KNeighborsClassifier\n",
    "from sklearn.metrics import accuracy_score\n",
    "\n",
    "\n",
    "\n",
    "# Clean data\n",
    "# df.replace('?', np.nan, inplace=True)\n",
    "df = df.dropna()\n",
    "df = df.apply(pd.to_numeric, errors='coerce')\n",
    "df = df.dropna()\n",
    "df = df[(df >= 0).all(axis=1)]  # Remove negative values\n",
    "\n",
    "\n",
    "\n",
    "# Transform features (normalize)\n",
    "X = df.drop('target', axis=1)\n",
    "y = df['target']\n",
    "scaler = MinMaxScaler()\n",
    "X_scaled = scaler.fit_transform(X)\n",
    "\n",
    "# Split data\n",
    "X_train, X_test, y_train, y_test = train_test_split(X_scaled, y, test_size=0.2, random_state=69)\n",
    "\n",
    "# Logistic Regression\n",
    "lr = LogisticRegression(max_iter=200)\n",
    "lr.fit(X_train, y_train)\n",
    "lr_pred = lr.predict(X_test)\n",
    "lr_acc = accuracy_score(y_test, lr_pred)\n",
    "\n",
    "# k-Nearest Neighbors\n",
    "knn = KNeighborsClassifier(n_neighbors=5)\n",
    "knn.fit(X_train, y_train)\n",
    "knn_pred = knn.predict(X_test)\n",
    "knn_acc = accuracy_score(y_test, knn_pred)\n",
    "\n",
    "# Print accuracy\n",
    "print(\"Logistic Regression Accuracy:\", lr_acc)\n",
    "print(\"kNN Accuracy:\", knn_acc)"
   ]
  },
  {
   "cell_type": "code",
   "execution_count": null,
   "id": "a0d1687d-6a47-4b67-8c7a-b47a89b163f8",
   "metadata": {},
   "outputs": [],
   "source": []
  },
  {
   "cell_type": "code",
   "execution_count": null,
   "id": "d532e337-6ca7-414c-ab8e-c8ed8a40f693",
   "metadata": {},
   "outputs": [],
   "source": []
  }
 ],
 "metadata": {
  "kernelspec": {
   "display_name": "Python 3 (ipykernel)",
   "language": "python",
   "name": "python3"
  },
  "language_info": {
   "codemirror_mode": {
    "name": "ipython",
    "version": 3
   },
   "file_extension": ".py",
   "mimetype": "text/x-python",
   "name": "python",
   "nbconvert_exporter": "python",
   "pygments_lexer": "ipython3",
   "version": "3.8.2rc2"
  }
 },
 "nbformat": 4,
 "nbformat_minor": 5
}
